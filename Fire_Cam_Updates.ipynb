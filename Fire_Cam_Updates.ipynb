{
 "cells": [
  {
   "cell_type": "code",
   "execution_count": 5,
   "metadata": {},
   "outputs": [
    {
     "name": "stdout",
     "output_type": "stream",
     "text": [
      "{\"features\":[{\"geometry\":{\"type\":\"Point\",\"coordinates\":[\"-122.266777\",\"38.452831\",\"0.850000\"]},\"type\":\"Feature\",\"properties\":{\"az_current\":\"315.820007\",\"ip\":\"axis-atlas\",\"fov_lft\":[\"-123.099877\",\"38.825739\"],\"region\":\"Sonoma\",\"name\":\"Atlas Peak\",\"tilt_current\":\"-0.11\",\"fov_rt\":[\"-122.727024\",\"39.111453\"],\"ProdNbr\":\"Q6055-E\",\"fov_center\":[\"-122.939238\",\"38.988781\"],\"zoom_current\":\"111.00\",\"fov\":\"31.49\",\"ptz\":\"1\",\"id\":\"Axis-Atlas\",\"attribution\":\"NorthBay\"}},{\"geometry\":{\"type\":\"Point\",\"coordinates\":[\"-122.845123\",\"38.764606\",\"1.052000\"]},\"type\":\"Feature\",\"properties\":{\"ptz\":\"1\",\"id\":\"Axis-Geyser\",\"attribution\":\"NorthBay\",\"zoom_current\":\"1.00\",\"fov\":\"62.98\",\"tilt_current\":\"0.19\",\"fov_rt\":[\"-123.199206\",\"38.067802\"],\"ProdNbr\":\"Q6055-E\",\"fov_center\":[\"-122.685202\",\"38.025153\"],\"az_current\":\"170.330002\",\"ip\":\"axis-geyser\",\"fov_lft\":[\"-122.217010\",\"38.198263\"],\"name\":\"Geyser Peak\",\"region\":\"Sonoma\"}},{\"geometry\":{\"type\":\"Point\",\"coordinates\":[\"-122.766777\",\"38.975368\",\"1.312000\"]},\"type\":\"Feature\",\"properties\":{\"fov_rt\":[\"-122.485776\",\"38.258223\"],\"tilt_current\":\"0.68\",\"fov_center\":[\"-122.048149\",\"38.477173\"],\"ProdNbr\":\"Q6055-E\",\"fov_lft\":[\"-121.818199\",\"38.842449\"],\"ip\":\"axis-konocti\",\"az_current\":\"131.399994\",\"name\":\"Mount Konocti \",\"region\":\"Lake\",\"ptz\":\"1\",\"attribution\":\"NorthBay\",\"id\":\"Axis-Konocti\",\"fov\":\"62.98\",\"zoom_current\":\"1.00\"}},{\"geometry\":{\"coordinates\":[\"-122.946960\",\"38.843620\",\"1.142900\"],\"type\":\"Point\"},\"type\":\"Feature\",\"properties\":{\"ip\":\"axis-pine\",\"fov_lft\":[\"-123.184430\",\"38.117023\"],\"az_current\":\"210.169998\",\"name\":\"Pine Mountain\",\"region\":\"Sonoma\",\"fov_rt\":[\"-123.633622\",\"38.319809\"],\"tilt_current\":\"1.84\",\"fov_center\":[\"-123.426550\",\"38.194232\"],\"ProdNbr\":\"Q6055-E\",\"zoom_current\":\"100.00\",\"fov\":\"31.49\",\"ptz\":\"1\",\"attribution\":\"NorthBay\",\"id\":\"Axis-Pine\"}},{\"geometry\":{\"coordinates\":[\"-123.120003\",\"38.505402\",\"0.673300\"],\"type\":\"Point\"},\"type\":\"Feature\",\"properties\":{\"ptz\":\"1\",\"id\":\"Axis-PoleMt\",\"attribution\":\"NorthBay\",\"fov\":\"20.99\",\"zoom_current\":\"883.00\",\"tilt_current\":\"-6.28\",\"fov_rt\":[\"-122.181563\",\"38.356792\"],\"ProdNbr\":\"Q6055-E\",\"fov_center\":[\"-122.161803\",\"38.493121\"],\"az_current\":\"90.639999\",\"fov_lft\":[\"-122.174090\",\"38.629989\"],\"ip\":\"axis-polemt\",\"name\":\"Pole Mountain\",\"region\":\"Sonoma\"}},{\"geometry\":{\"type\":\"Point\",\"coordinates\":[\"-122.614441\",\"38.656342\",\"1.216100\"]},\"type\":\"Feature\",\"properties\":{\"fov\":\"62.98\",\"zoom_current\":\"1.00\",\"ptz\":\"1\",\"attribution\":\"NorthBay\",\"id\":\"Axis-StHelenaSouth\",\"fov_lft\":[\"-121.669657\",\"38.795010\"],\"ip\":\"axis-sthelenasouth\",\"az_current\":\"110.540001\",\"name\":\"St. Helena South\",\"region\":\"Sonoma\",\"fov_rt\":[\"-122.028367\",\"38.063624\"],\"tilt_current\":\"-4.48\",\"ProdNbr\":\"Q6055-E\",\"fov_center\":[\"-121.718389\",\"38.389772\"]}}],\"type\":\"FeatureCollection\"}\n"
     ]
    }
   ],
   "source": [
    "import http.client\n",
    "\n",
    "conn = http.client.HTTPConnection(\"s3-us-west-2.amazonaws.com\")\n",
    "\n",
    "headers = {\n",
    "    'origin': \"http://www.alertwildfire.org\",\n",
    "    'user-agent': \"Mozilla/5.0 (Windows NT 10.0; Win64; x64) AppleWebKit/537.36 (KHTML, like Gecko) Chrome/69.0.3497.100 Safari/537.36\",\n",
    "    'accept': \"*/*\",\n",
    "    'referer': \"http://www.alertwildfire.org/\",\n",
    "    'accept-encoding': \"gzip, deflate\",\n",
    "    'accept-language': \"en-US,en;q=0.9\",\n",
    "    'cache-control': \"no-cache\"\n",
    "    }\n",
    "\n",
    "conn.request(\"GET\", \"/alertwildfire-data-public/NorthBay.json\", headers=headers)\n",
    "\n",
    "res = conn.getresponse()\n",
    "data = res.read()\n",
    "\n",
    "print(data.decode(\"utf-8\"))"
   ]
  }
 ],
 "metadata": {
  "kernelspec": {
   "display_name": "Python 3",
   "language": "python",
   "name": "python3"
  },
  "language_info": {
   "codemirror_mode": {
    "name": "ipython",
    "version": 3
   },
   "file_extension": ".py",
   "mimetype": "text/x-python",
   "name": "python",
   "nbconvert_exporter": "python",
   "pygments_lexer": "ipython3",
   "version": "3.6.5"
  }
 },
 "nbformat": 4,
 "nbformat_minor": 2
}
